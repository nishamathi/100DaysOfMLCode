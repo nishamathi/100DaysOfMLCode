{
  "nbformat": 4,
  "nbformat_minor": 0,
  "metadata": {
    "colab": {
      "name": "Copy of dphiAss1.ipynb",
      "provenance": [],
      "collapsed_sections": [],
      "authorship_tag": "ABX9TyM1de6qbrlgWCHCpdlKEsXu",
      "include_colab_link": true
    },
    "kernelspec": {
      "name": "python3",
      "display_name": "Python 3"
    }
  },
  "cells": [
    {
      "cell_type": "markdown",
      "metadata": {
        "id": "view-in-github",
        "colab_type": "text"
      },
      "source": [
        "<a href=\"https://colab.research.google.com/github/nishamathi/100DaysOfMLCode/blob/master/MLJ_dphiAss1.ipynb\" target=\"_parent\"><img src=\"https://colab.research.google.com/assets/colab-badge.svg\" alt=\"Open In Colab\"/></a>"
      ]
    },
    {
      "cell_type": "markdown",
      "metadata": {
        "id": "HkTl989jEsx5"
      },
      "source": [
        ""
      ]
    },
    {
      "cell_type": "code",
      "metadata": {
        "colab": {
          "base_uri": "https://localhost:8080/",
          "height": 289
        },
        "id": "f_-QjXwjEoUB",
        "outputId": "61011bb2-b7d6-4093-e059-9caf29f77026"
      },
      "source": [
        "!pip install --upgrade scikit-learn==0.22.2"
      ],
      "execution_count": null,
      "outputs": [
        {
          "output_type": "stream",
          "text": [
            "Collecting scikit-learn==0.22.2\n",
            "\u001b[?25l  Downloading https://files.pythonhosted.org/packages/e1/7f/366dcba1ba076a88a50bea732dbc033c0c5bbf7876010e6edc67948579d5/scikit_learn-0.22.2-cp36-cp36m-manylinux1_x86_64.whl (7.1MB)\n",
            "\u001b[K     |████████████████████████████████| 7.1MB 4.8MB/s \n",
            "\u001b[?25hRequirement already satisfied, skipping upgrade: joblib>=0.11 in /usr/local/lib/python3.6/dist-packages (from scikit-learn==0.22.2) (1.0.0)\n",
            "Requirement already satisfied, skipping upgrade: numpy>=1.11.0 in /usr/local/lib/python3.6/dist-packages (from scikit-learn==0.22.2) (1.19.4)\n",
            "Requirement already satisfied, skipping upgrade: scipy>=0.17.0 in /usr/local/lib/python3.6/dist-packages (from scikit-learn==0.22.2) (1.4.1)\n",
            "Installing collected packages: scikit-learn\n",
            "  Found existing installation: scikit-learn 0.22.2.post1\n",
            "    Uninstalling scikit-learn-0.22.2.post1:\n",
            "      Successfully uninstalled scikit-learn-0.22.2.post1\n",
            "Successfully installed scikit-learn-0.22.2\n"
          ],
          "name": "stdout"
        },
        {
          "output_type": "display_data",
          "data": {
            "application/vnd.colab-display-data+json": {
              "pip_warning": {
                "packages": [
                  "sklearn"
                ]
              }
            }
          },
          "metadata": {
            "tags": []
          }
        }
      ]
    },
    {
      "cell_type": "code",
      "metadata": {
        "colab": {
          "base_uri": "https://localhost:8080/"
        },
        "id": "nsXZVkTRE3iQ",
        "outputId": "22d1d0ad-be47-4b96-9689-5a4dee5bc9e3"
      },
      "source": [
        "!pip install imblearn"
      ],
      "execution_count": null,
      "outputs": [
        {
          "output_type": "stream",
          "text": [
            "Requirement already satisfied: imblearn in /usr/local/lib/python3.6/dist-packages (0.0)\n",
            "Requirement already satisfied: imbalanced-learn in /usr/local/lib/python3.6/dist-packages (from imblearn) (0.4.3)\n",
            "Requirement already satisfied: scipy>=0.13.3 in /usr/local/lib/python3.6/dist-packages (from imbalanced-learn->imblearn) (1.4.1)\n",
            "Requirement already satisfied: numpy>=1.8.2 in /usr/local/lib/python3.6/dist-packages (from imbalanced-learn->imblearn) (1.19.4)\n",
            "Requirement already satisfied: scikit-learn>=0.20 in /usr/local/lib/python3.6/dist-packages (from imbalanced-learn->imblearn) (0.22.2)\n",
            "Requirement already satisfied: joblib>=0.11 in /usr/local/lib/python3.6/dist-packages (from scikit-learn>=0.20->imbalanced-learn->imblearn) (1.0.0)\n"
          ],
          "name": "stdout"
        }
      ]
    },
    {
      "cell_type": "code",
      "metadata": {
        "colab": {
          "base_uri": "https://localhost:8080/"
        },
        "id": "qwr43zDIo3uc",
        "outputId": "7b09badf-d28c-4301-acd7-40d56d2ab6a5"
      },
      "source": [
        "!pip install six"
      ],
      "execution_count": null,
      "outputs": [
        {
          "output_type": "stream",
          "text": [
            "Requirement already satisfied: six in /usr/local/lib/python3.6/dist-packages (1.15.0)\n"
          ],
          "name": "stdout"
        }
      ]
    },
    {
      "cell_type": "code",
      "metadata": {
        "colab": {
          "base_uri": "https://localhost:8080/"
        },
        "id": "EXNuEpqNn92l",
        "outputId": "84ecd172-9951-4e12-bacf-37d4aa28648b"
      },
      "source": [
        "pip show imblearn"
      ],
      "execution_count": null,
      "outputs": [
        {
          "output_type": "stream",
          "text": [
            "Name: imblearn\n",
            "Version: 0.0\n",
            "Summary: Toolbox for imbalanced dataset in machine learning.\n",
            "Home-page: https://pypi.python.org/pypi/imbalanced-learn/\n",
            "Author: UNKNOWN\n",
            "Author-email: UNKNOWN\n",
            "License: UNKNOWN\n",
            "Location: /usr/local/lib/python3.6/dist-packages\n",
            "Requires: imbalanced-learn\n",
            "Required-by: \n"
          ],
          "name": "stdout"
        }
      ]
    },
    {
      "cell_type": "code",
      "metadata": {
        "colab": {
          "base_uri": "https://localhost:8080/"
        },
        "id": "sZzCm1LapPw3",
        "outputId": "01c48122-a880-4f7e-b347-b59bd5486c77"
      },
      "source": [
        "pip show scikit-learn"
      ],
      "execution_count": null,
      "outputs": [
        {
          "output_type": "stream",
          "text": [
            "Name: scikit-learn\n",
            "Version: 0.22.2\n",
            "Summary: A set of python modules for machine learning and data mining\n",
            "Home-page: http://scikit-learn.org\n",
            "Author: None\n",
            "Author-email: None\n",
            "License: new BSD\n",
            "Location: /usr/local/lib/python3.6/dist-packages\n",
            "Requires: joblib, numpy, scipy\n",
            "Required-by: yellowbrick, umap-learn, textgenrnn, sklearn, sklearn-pandas, mlxtend, lucid, lightgbm, librosa, imbalanced-learn, fancyimpute\n"
          ],
          "name": "stdout"
        }
      ]
    },
    {
      "cell_type": "code",
      "metadata": {
        "id": "9ZG5XYg1IBC2"
      },
      "source": [
        "import pandas as pd\r\n",
        "import numpy as np\r\n",
        "insurance_data = pd.read_csv(\"https://github.com/dphi-official/Datasets/blob/master/travel_insurance/Training_set_label.csv?raw=true\")"
      ],
      "execution_count": null,
      "outputs": []
    },
    {
      "cell_type": "code",
      "metadata": {
        "id": "3m_8lDqpYKhO",
        "colab": {
          "base_uri": "https://localhost:8080/"
        },
        "outputId": "ff63892c-1e5e-4b6e-dc3b-12271ae007c4"
      },
      "source": [
        "#%%# To find dtypes of all columns\r\n",
        "print(insurance_data.dtypes)\r\n",
        "# Check missing values\r\n",
        "print(insurance_data.isnull().sum())\r\n",
        "# Check if negative values are present in int and float dtypes\r\n",
        "bool=insurance_data['Age']<0\r\n",
        "print('Age Neg value',bool.sum())\r\n",
        "\r\n",
        "bool=insurance_data['Claim']<0\r\n",
        "print('Claim Neg value',bool.sum())\r\n",
        "\r\n",
        "bool=insurance_data['Duration']<0\r\n",
        "print('Duration Neg value',bool.sum())\r\n",
        "\r\n",
        "bool=insurance_data['Net Sales']<0\r\n",
        "print('Net Sales Neg value',bool.sum())\r\n",
        "\r\n",
        "bool=insurance_data['Commision (in value)']<0\r\n",
        "print('Commision in value Neg value',bool.sum())\r\n",
        "\r\n",
        "gen=insurance_data['Gender'].value_counts()\r\n",
        "print(gen)"
      ],
      "execution_count": null,
      "outputs": [
        {
          "output_type": "stream",
          "text": [
            "Agency                   object\n",
            "Agency Type              object\n",
            "Distribution Channel     object\n",
            "Product Name             object\n",
            "Duration                  int64\n",
            "Destination              object\n",
            "Net Sales               float64\n",
            "Commision (in value)    float64\n",
            "Gender                   object\n",
            "Age                       int64\n",
            "Claim                     int64\n",
            "dtype: object\n",
            "Agency                      0\n",
            "Agency Type                 0\n",
            "Distribution Channel        0\n",
            "Product Name                0\n",
            "Duration                    0\n",
            "Destination                 0\n",
            "Net Sales                   0\n",
            "Commision (in value)        0\n",
            "Gender                  34361\n",
            "Age                         0\n",
            "Claim                       0\n",
            "dtype: int64\n",
            "Age Neg value 0\n",
            "Claim Neg value 0\n",
            "Duration Neg value 3\n",
            "Net Sales Neg value 522\n",
            "Commision in value Neg value 0\n",
            "M    7137\n",
            "F    6762\n",
            "Name: Gender, dtype: int64\n"
          ],
          "name": "stdout"
        }
      ]
    },
    {
      "cell_type": "code",
      "metadata": {
        "colab": {
          "base_uri": "https://localhost:8080/",
          "height": 349
        },
        "id": "iOkxU2r3yAZB",
        "outputId": "ebee7935-d859-4224-a3b9-eda04c341372"
      },
      "source": [
        "print('Mean of duration', np.mean(insurance_data['Duration']))\r\n",
        "print('Median of duration', np.median(insurance_data['Duration']))\r\n",
        "print('Min of duration', np.min(insurance_data['Duration']))\r\n",
        "print('Max of duration', np.max(insurance_data['Duration']))\r\n",
        "import matplotlib.pyplot as plt\r\n",
        "import numpy as np\r\n",
        "%matplotlib inline\r\n",
        "\r\n",
        "plt.hist(insurance_data['Duration'], density=False, bins=2)  # `density=False` would make counts\r\n",
        "plt.ylabel('Probability')\r\n",
        "plt.xlabel('Duration');\r\n"
      ],
      "execution_count": null,
      "outputs": [
        {
          "output_type": "stream",
          "text": [
            "Mean of duration 49.5466017405719\n",
            "Median of duration 22.0\n",
            "Min of duration -2\n",
            "Max of duration 4881\n"
          ],
          "name": "stdout"
        },
        {
          "output_type": "display_data",
          "data": {
            "image/png": "[encoded data removed]",
            "text/plain": [
              "<Figure size 432x288 with 1 Axes>"
            ]
          },
          "metadata": {
            "tags": [],
            "needs_background": "light"
          }
        }
      ]
    },
    {
      "cell_type": "code",
      "metadata": {
        "colab": {
          "base_uri": "https://localhost:8080/",
          "height": 285
        },
        "id": "YiLX_fq_AL1E",
        "outputId": "d875d623-af16-4c78-b864-1931dbe7ce76"
      },
      "source": [
        "import seaborn as sns\r\n",
        "sns.set_theme(style=\"whitegrid\")\r\n",
        "\r\n",
        "ax = sns.boxplot(x=insurance_data[\"Duration\"])"
      ],
      "execution_count": null,
      "outputs": [
        {
          "output_type": "display_data",
          "data": {
            "image/png": "[encoded data removed]",
            "text/plain": [
              "<Figure size 432x288 with 1 Axes>"
            ]
          },
          "metadata": {
            "tags": []
          }
        }
      ]
    },
    {
      "cell_type": "code",
      "metadata": {
        "id": "Z0RHLBm3CgFN"
      },
      "source": [
        "insurance_data['Gender']=insurance_data['Gender'].replace(np.nan,'Not Specified')\r\n",
        "insurance_data.drop(columns=['Distribution Channel','Destination','Agency Type'], inplace=True)"
      ],
      "execution_count": null,
      "outputs": []
    },
    {
      "cell_type": "code",
      "metadata": {
        "colab": {
          "base_uri": "https://localhost:8080/",
          "height": 762
        },
        "id": "_JxAcew5IDXT",
        "outputId": "502e29ad-c344-4567-8638-11b2407eed52"
      },
      "source": [
        "insurance_data.head(23)"
      ],
      "execution_count": null,
      "outputs": [
        {
          "output_type": "execute_result",
          "data": {
            "text/html": [
              "<div>\n",
              "<style scoped>\n",
              "    .dataframe tbody tr th:only-of-type {\n",
              "        vertical-align: middle;\n",
              "    }\n",
              "\n",
              "    .dataframe tbody tr th {\n",
              "        vertical-align: top;\n",
              "    }\n",
              "\n",
              "    .dataframe thead th {\n",
              "        text-align: right;\n",
              "    }\n",
              "</style>\n",
              "<table border=\"1\" class=\"dataframe\">\n",
              "  <thead>\n",
              "    <tr style=\"text-align: right;\">\n",
              "      <th></th>\n",
              "      <th>Agency</th>\n",
              "      <th>Product Name</th>\n",
              "      <th>Duration</th>\n",
              "      <th>Net Sales</th>\n",
              "      <th>Commision (in value)</th>\n",
              "      <th>Gender</th>\n",
              "      <th>Age</th>\n",
              "      <th>Claim</th>\n",
              "    </tr>\n",
              "  </thead>\n",
              "  <tbody>\n",
              "    <tr>\n",
              "      <th>0</th>\n",
              "      <td>CWT</td>\n",
              "      <td>Rental Vehicle Excess Insurance</td>\n",
              "      <td>61</td>\n",
              "      <td>19.80</td>\n",
              "      <td>11.88</td>\n",
              "      <td>Not Specified</td>\n",
              "      <td>29</td>\n",
              "      <td>0</td>\n",
              "    </tr>\n",
              "    <tr>\n",
              "      <th>1</th>\n",
              "      <td>EPX</td>\n",
              "      <td>Cancellation Plan</td>\n",
              "      <td>93</td>\n",
              "      <td>63.00</td>\n",
              "      <td>0.00</td>\n",
              "      <td>Not Specified</td>\n",
              "      <td>36</td>\n",
              "      <td>0</td>\n",
              "    </tr>\n",
              "    <tr>\n",
              "      <th>2</th>\n",
              "      <td>EPX</td>\n",
              "      <td>2 way Comprehensive Plan</td>\n",
              "      <td>22</td>\n",
              "      <td>22.00</td>\n",
              "      <td>0.00</td>\n",
              "      <td>Not Specified</td>\n",
              "      <td>25</td>\n",
              "      <td>0</td>\n",
              "    </tr>\n",
              "    <tr>\n",
              "      <th>3</th>\n",
              "      <td>C2B</td>\n",
              "      <td>Silver Plan</td>\n",
              "      <td>14</td>\n",
              "      <td>54.50</td>\n",
              "      <td>13.63</td>\n",
              "      <td>M</td>\n",
              "      <td>24</td>\n",
              "      <td>0</td>\n",
              "    </tr>\n",
              "    <tr>\n",
              "      <th>4</th>\n",
              "      <td>EPX</td>\n",
              "      <td>Cancellation Plan</td>\n",
              "      <td>90</td>\n",
              "      <td>10.00</td>\n",
              "      <td>0.00</td>\n",
              "      <td>Not Specified</td>\n",
              "      <td>23</td>\n",
              "      <td>0</td>\n",
              "    </tr>\n",
              "    <tr>\n",
              "      <th>5</th>\n",
              "      <td>EPX</td>\n",
              "      <td>2 way Comprehensive Plan</td>\n",
              "      <td>36</td>\n",
              "      <td>47.00</td>\n",
              "      <td>0.00</td>\n",
              "      <td>Not Specified</td>\n",
              "      <td>36</td>\n",
              "      <td>0</td>\n",
              "    </tr>\n",
              "    <tr>\n",
              "      <th>6</th>\n",
              "      <td>EPX</td>\n",
              "      <td>2 way Comprehensive Plan</td>\n",
              "      <td>13</td>\n",
              "      <td>25.00</td>\n",
              "      <td>0.00</td>\n",
              "      <td>Not Specified</td>\n",
              "      <td>36</td>\n",
              "      <td>0</td>\n",
              "    </tr>\n",
              "    <tr>\n",
              "      <th>7</th>\n",
              "      <td>EPX</td>\n",
              "      <td>Cancellation Plan</td>\n",
              "      <td>4</td>\n",
              "      <td>27.00</td>\n",
              "      <td>0.00</td>\n",
              "      <td>Not Specified</td>\n",
              "      <td>35</td>\n",
              "      <td>0</td>\n",
              "    </tr>\n",
              "    <tr>\n",
              "      <th>8</th>\n",
              "      <td>EPX</td>\n",
              "      <td>2 way Comprehensive Plan</td>\n",
              "      <td>95</td>\n",
              "      <td>20.00</td>\n",
              "      <td>0.00</td>\n",
              "      <td>Not Specified</td>\n",
              "      <td>36</td>\n",
              "      <td>0</td>\n",
              "    </tr>\n",
              "    <tr>\n",
              "      <th>9</th>\n",
              "      <td>EPX</td>\n",
              "      <td>Cancellation Plan</td>\n",
              "      <td>30</td>\n",
              "      <td>10.00</td>\n",
              "      <td>0.00</td>\n",
              "      <td>Not Specified</td>\n",
              "      <td>36</td>\n",
              "      <td>0</td>\n",
              "    </tr>\n",
              "    <tr>\n",
              "      <th>10</th>\n",
              "      <td>EPX</td>\n",
              "      <td>1 way Comprehensive Plan</td>\n",
              "      <td>4</td>\n",
              "      <td>20.00</td>\n",
              "      <td>0.00</td>\n",
              "      <td>Not Specified</td>\n",
              "      <td>56</td>\n",
              "      <td>0</td>\n",
              "    </tr>\n",
              "    <tr>\n",
              "      <th>11</th>\n",
              "      <td>EPX</td>\n",
              "      <td>2 way Comprehensive Plan</td>\n",
              "      <td>8</td>\n",
              "      <td>20.00</td>\n",
              "      <td>0.00</td>\n",
              "      <td>Not Specified</td>\n",
              "      <td>36</td>\n",
              "      <td>0</td>\n",
              "    </tr>\n",
              "    <tr>\n",
              "      <th>12</th>\n",
              "      <td>EPX</td>\n",
              "      <td>Cancellation Plan</td>\n",
              "      <td>49</td>\n",
              "      <td>-80.00</td>\n",
              "      <td>0.00</td>\n",
              "      <td>Not Specified</td>\n",
              "      <td>21</td>\n",
              "      <td>0</td>\n",
              "    </tr>\n",
              "    <tr>\n",
              "      <th>13</th>\n",
              "      <td>JZI</td>\n",
              "      <td>Basic Plan</td>\n",
              "      <td>3</td>\n",
              "      <td>22.00</td>\n",
              "      <td>7.70</td>\n",
              "      <td>M</td>\n",
              "      <td>26</td>\n",
              "      <td>0</td>\n",
              "    </tr>\n",
              "    <tr>\n",
              "      <th>14</th>\n",
              "      <td>EPX</td>\n",
              "      <td>1 way Comprehensive Plan</td>\n",
              "      <td>6</td>\n",
              "      <td>53.00</td>\n",
              "      <td>0.00</td>\n",
              "      <td>Not Specified</td>\n",
              "      <td>36</td>\n",
              "      <td>0</td>\n",
              "    </tr>\n",
              "    <tr>\n",
              "      <th>15</th>\n",
              "      <td>CWT</td>\n",
              "      <td>Rental Vehicle Excess Insurance</td>\n",
              "      <td>1</td>\n",
              "      <td>9.90</td>\n",
              "      <td>5.94</td>\n",
              "      <td>Not Specified</td>\n",
              "      <td>30</td>\n",
              "      <td>0</td>\n",
              "    </tr>\n",
              "    <tr>\n",
              "      <th>16</th>\n",
              "      <td>CWT</td>\n",
              "      <td>Rental Vehicle Excess Insurance</td>\n",
              "      <td>4</td>\n",
              "      <td>29.70</td>\n",
              "      <td>17.82</td>\n",
              "      <td>Not Specified</td>\n",
              "      <td>53</td>\n",
              "      <td>0</td>\n",
              "    </tr>\n",
              "    <tr>\n",
              "      <th>17</th>\n",
              "      <td>EPX</td>\n",
              "      <td>Cancellation Plan</td>\n",
              "      <td>54</td>\n",
              "      <td>12.00</td>\n",
              "      <td>0.00</td>\n",
              "      <td>Not Specified</td>\n",
              "      <td>36</td>\n",
              "      <td>0</td>\n",
              "    </tr>\n",
              "    <tr>\n",
              "      <th>18</th>\n",
              "      <td>TST</td>\n",
              "      <td>Travel Cruise Protect</td>\n",
              "      <td>40</td>\n",
              "      <td>30.00</td>\n",
              "      <td>10.50</td>\n",
              "      <td>M</td>\n",
              "      <td>50</td>\n",
              "      <td>0</td>\n",
              "    </tr>\n",
              "    <tr>\n",
              "      <th>19</th>\n",
              "      <td>JZI</td>\n",
              "      <td>Basic Plan</td>\n",
              "      <td>2</td>\n",
              "      <td>18.00</td>\n",
              "      <td>6.30</td>\n",
              "      <td>M</td>\n",
              "      <td>39</td>\n",
              "      <td>0</td>\n",
              "    </tr>\n",
              "    <tr>\n",
              "      <th>20</th>\n",
              "      <td>C2B</td>\n",
              "      <td>Annual Silver Plan</td>\n",
              "      <td>365</td>\n",
              "      <td>252.85</td>\n",
              "      <td>63.21</td>\n",
              "      <td>M</td>\n",
              "      <td>52</td>\n",
              "      <td>1</td>\n",
              "    </tr>\n",
              "    <tr>\n",
              "      <th>21</th>\n",
              "      <td>EPX</td>\n",
              "      <td>Cancellation Plan</td>\n",
              "      <td>11</td>\n",
              "      <td>33.00</td>\n",
              "      <td>0.00</td>\n",
              "      <td>Not Specified</td>\n",
              "      <td>36</td>\n",
              "      <td>0</td>\n",
              "    </tr>\n",
              "    <tr>\n",
              "      <th>22</th>\n",
              "      <td>JZI</td>\n",
              "      <td>Basic Plan</td>\n",
              "      <td>49</td>\n",
              "      <td>26.00</td>\n",
              "      <td>9.10</td>\n",
              "      <td>F</td>\n",
              "      <td>38</td>\n",
              "      <td>0</td>\n",
              "    </tr>\n",
              "  </tbody>\n",
              "</table>\n",
              "</div>"
            ],
            "text/plain": [
              "   Agency                     Product Name  Duration  ...         Gender  Age Claim\n",
              "0     CWT  Rental Vehicle Excess Insurance        61  ...  Not Specified   29     0\n",
              "1     EPX                Cancellation Plan        93  ...  Not Specified   36     0\n",
              "2     EPX         2 way Comprehensive Plan        22  ...  Not Specified   25     0\n",
              "3     C2B                      Silver Plan        14  ...              M   24     0\n",
              "4     EPX                Cancellation Plan        90  ...  Not Specified   23     0\n",
              "5     EPX         2 way Comprehensive Plan        36  ...  Not Specified   36     0\n",
              "6     EPX         2 way Comprehensive Plan        13  ...  Not Specified   36     0\n",
              "7     EPX                Cancellation Plan         4  ...  Not Specified   35     0\n",
              "8     EPX         2 way Comprehensive Plan        95  ...  Not Specified   36     0\n",
              "9     EPX                Cancellation Plan        30  ...  Not Specified   36     0\n",
              "10    EPX         1 way Comprehensive Plan         4  ...  Not Specified   56     0\n",
              "11    EPX         2 way Comprehensive Plan         8  ...  Not Specified   36     0\n",
              "12    EPX                Cancellation Plan        49  ...  Not Specified   21     0\n",
              "13    JZI                       Basic Plan         3  ...              M   26     0\n",
              "14    EPX         1 way Comprehensive Plan         6  ...  Not Specified   36     0\n",
              "15    CWT  Rental Vehicle Excess Insurance         1  ...  Not Specified   30     0\n",
              "16    CWT  Rental Vehicle Excess Insurance         4  ...  Not Specified   53     0\n",
              "17    EPX                Cancellation Plan        54  ...  Not Specified   36     0\n",
              "18    TST            Travel Cruise Protect        40  ...              M   50     0\n",
              "19    JZI                       Basic Plan         2  ...              M   39     0\n",
              "20    C2B               Annual Silver Plan       365  ...              M   52     1\n",
              "21    EPX                Cancellation Plan        11  ...  Not Specified   36     0\n",
              "22    JZI                       Basic Plan        49  ...              F   38     0\n",
              "\n",
              "[23 rows x 8 columns]"
            ]
          },
          "metadata": {
            "tags": []
          },
          "execution_count": 11
        }
      ]
    },
    {
      "cell_type": "code",
      "metadata": {
        "colab": {
          "base_uri": "https://localhost:8080/"
        },
        "id": "BkNxel9DFDON",
        "outputId": "f9bb5a0d-1860-4811-f84f-10cc655367d5"
      },
      "source": [
        "print(insurance_data.dtypes)\r\n",
        "ag=pd.get_dummies(insurance_data['Agency'], prefix='AG')\r\n",
        "ag.head()\r\n",
        "pn=pd.get_dummies(insurance_data['Product Name'], prefix='PN')\r\n",
        "pn.head()\r\n",
        "gn=pd.get_dummies(insurance_data['Gender'], prefix='GN')\r\n",
        "gn.head()\r\n",
        "print(ag.shape)\r\n",
        "print(pn.shape)\r\n",
        "print(gn.shape)"
      ],
      "execution_count": null,
      "outputs": [
        {
          "output_type": "stream",
          "text": [
            "Agency                   object\n",
            "Product Name             object\n",
            "Duration                  int64\n",
            "Net Sales               float64\n",
            "Commision (in value)    float64\n",
            "Gender                   object\n",
            "Age                       int64\n",
            "Claim                     int64\n",
            "dtype: object\n",
            "(48260, 16)\n",
            "(48260, 26)\n",
            "(48260, 3)\n"
          ],
          "name": "stdout"
        }
      ]
    },
    {
      "cell_type": "code",
      "metadata": {
        "colab": {
          "base_uri": "https://localhost:8080/",
          "height": 309
        },
        "id": "OsESsISUYXVJ",
        "outputId": "905c1942-7631-4447-eeb5-bdf0b8b72947"
      },
      "source": [
        "print(isinstance(gn, pd.DataFrame))\r\n",
        "filt_id=insurance_data.drop(columns=['Agency','Product Name', 'Gender'])\r\n",
        "tmp=[ag, gn, pn, filt_id]\r\n",
        "CatFile=pd.concat(tmp,axis=1) \r\n",
        "CatFile.columns\r\n",
        "CatFile.head(5)"
      ],
      "execution_count": null,
      "outputs": [
        {
          "output_type": "stream",
          "text": [
            "True\n"
          ],
          "name": "stdout"
        },
        {
          "output_type": "execute_result",
          "data": {
            "text/html": [
              "<div>\n",
              "<style scoped>\n",
              "    .dataframe tbody tr th:only-of-type {\n",
              "        vertical-align: middle;\n",
              "    }\n",
              "\n",
              "    .dataframe tbody tr th {\n",
              "        vertical-align: top;\n",
              "    }\n",
              "\n",
              "    .dataframe thead th {\n",
              "        text-align: right;\n",
              "    }\n",
              "</style>\n",
              "<table border=\"1\" class=\"dataframe\">\n",
              "  <thead>\n",
              "    <tr style=\"text-align: right;\">\n",
              "      <th></th>\n",
              "      <th>AG_ADM</th>\n",
              "      <th>AG_ART</th>\n",
              "      <th>AG_C2B</th>\n",
              "      <th>AG_CBH</th>\n",
              "      <th>AG_CCR</th>\n",
              "      <th>AG_CSR</th>\n",
              "      <th>AG_CWT</th>\n",
              "      <th>AG_EPX</th>\n",
              "      <th>AG_JWT</th>\n",
              "      <th>AG_JZI</th>\n",
              "      <th>AG_KML</th>\n",
              "      <th>AG_LWC</th>\n",
              "      <th>AG_RAB</th>\n",
              "      <th>AG_SSI</th>\n",
              "      <th>AG_TST</th>\n",
              "      <th>AG_TTW</th>\n",
              "      <th>GN_F</th>\n",
              "      <th>GN_M</th>\n",
              "      <th>GN_Not Specified</th>\n",
              "      <th>PN_1 way Comprehensive Plan</th>\n",
              "      <th>PN_2 way Comprehensive Plan</th>\n",
              "      <th>PN_24 Protect</th>\n",
              "      <th>PN_Annual Gold Plan</th>\n",
              "      <th>PN_Annual Silver Plan</th>\n",
              "      <th>PN_Annual Travel Protect Gold</th>\n",
              "      <th>PN_Annual Travel Protect Platinum</th>\n",
              "      <th>PN_Annual Travel Protect Silver</th>\n",
              "      <th>PN_Basic Plan</th>\n",
              "      <th>PN_Bronze Plan</th>\n",
              "      <th>PN_Cancellation Plan</th>\n",
              "      <th>PN_Child Comprehensive Plan</th>\n",
              "      <th>PN_Comprehensive Plan</th>\n",
              "      <th>PN_Gold Plan</th>\n",
              "      <th>PN_Individual Comprehensive Plan</th>\n",
              "      <th>PN_Premier Plan</th>\n",
              "      <th>PN_Rental Vehicle Excess Insurance</th>\n",
              "      <th>PN_Silver Plan</th>\n",
              "      <th>PN_Single Trip Travel Protect Gold</th>\n",
              "      <th>PN_Single Trip Travel Protect Platinum</th>\n",
              "      <th>PN_Single Trip Travel Protect Silver</th>\n",
              "      <th>PN_Spouse or Parents Comprehensive Plan</th>\n",
              "      <th>PN_Ticket Protector</th>\n",
              "      <th>PN_Travel Cruise Protect</th>\n",
              "      <th>PN_Travel Cruise Protect Family</th>\n",
              "      <th>PN_Value Plan</th>\n",
              "      <th>Duration</th>\n",
              "      <th>Net Sales</th>\n",
              "      <th>Commision (in value)</th>\n",
              "      <th>Age</th>\n",
              "      <th>Claim</th>\n",
              "    </tr>\n",
              "  </thead>\n",
              "  <tbody>\n",
              "    <tr>\n",
              "      <th>0</th>\n",
              "      <td>0</td>\n",
              "      <td>0</td>\n",
              "      <td>0</td>\n",
              "      <td>0</td>\n",
              "      <td>0</td>\n",
              "      <td>0</td>\n",
              "      <td>1</td>\n",
              "      <td>0</td>\n",
              "      <td>0</td>\n",
              "      <td>0</td>\n",
              "      <td>0</td>\n",
              "      <td>0</td>\n",
              "      <td>0</td>\n",
              "      <td>0</td>\n",
              "      <td>0</td>\n",
              "      <td>0</td>\n",
              "      <td>0</td>\n",
              "      <td>0</td>\n",
              "      <td>1</td>\n",
              "      <td>0</td>\n",
              "      <td>0</td>\n",
              "      <td>0</td>\n",
              "      <td>0</td>\n",
              "      <td>0</td>\n",
              "      <td>0</td>\n",
              "      <td>0</td>\n",
              "      <td>0</td>\n",
              "      <td>0</td>\n",
              "      <td>0</td>\n",
              "      <td>0</td>\n",
              "      <td>0</td>\n",
              "      <td>0</td>\n",
              "      <td>0</td>\n",
              "      <td>0</td>\n",
              "      <td>0</td>\n",
              "      <td>1</td>\n",
              "      <td>0</td>\n",
              "      <td>0</td>\n",
              "      <td>0</td>\n",
              "      <td>0</td>\n",
              "      <td>0</td>\n",
              "      <td>0</td>\n",
              "      <td>0</td>\n",
              "      <td>0</td>\n",
              "      <td>0</td>\n",
              "      <td>61</td>\n",
              "      <td>19.8</td>\n",
              "      <td>11.88</td>\n",
              "      <td>29</td>\n",
              "      <td>0</td>\n",
              "    </tr>\n",
              "    <tr>\n",
              "      <th>1</th>\n",
              "      <td>0</td>\n",
              "      <td>0</td>\n",
              "      <td>0</td>\n",
              "      <td>0</td>\n",
              "      <td>0</td>\n",
              "      <td>0</td>\n",
              "      <td>0</td>\n",
              "      <td>1</td>\n",
              "      <td>0</td>\n",
              "      <td>0</td>\n",
              "      <td>0</td>\n",
              "      <td>0</td>\n",
              "      <td>0</td>\n",
              "      <td>0</td>\n",
              "      <td>0</td>\n",
              "      <td>0</td>\n",
              "      <td>0</td>\n",
              "      <td>0</td>\n",
              "      <td>1</td>\n",
              "      <td>0</td>\n",
              "      <td>0</td>\n",
              "      <td>0</td>\n",
              "      <td>0</td>\n",
              "      <td>0</td>\n",
              "      <td>0</td>\n",
              "      <td>0</td>\n",
              "      <td>0</td>\n",
              "      <td>0</td>\n",
              "      <td>0</td>\n",
              "      <td>1</td>\n",
              "      <td>0</td>\n",
              "      <td>0</td>\n",
              "      <td>0</td>\n",
              "      <td>0</td>\n",
              "      <td>0</td>\n",
              "      <td>0</td>\n",
              "      <td>0</td>\n",
              "      <td>0</td>\n",
              "      <td>0</td>\n",
              "      <td>0</td>\n",
              "      <td>0</td>\n",
              "      <td>0</td>\n",
              "      <td>0</td>\n",
              "      <td>0</td>\n",
              "      <td>0</td>\n",
              "      <td>93</td>\n",
              "      <td>63.0</td>\n",
              "      <td>0.00</td>\n",
              "      <td>36</td>\n",
              "      <td>0</td>\n",
              "    </tr>\n",
              "    <tr>\n",
              "      <th>2</th>\n",
              "      <td>0</td>\n",
              "      <td>0</td>\n",
              "      <td>0</td>\n",
              "      <td>0</td>\n",
              "      <td>0</td>\n",
              "      <td>0</td>\n",
              "      <td>0</td>\n",
              "      <td>1</td>\n",
              "      <td>0</td>\n",
              "      <td>0</td>\n",
              "      <td>0</td>\n",
              "      <td>0</td>\n",
              "      <td>0</td>\n",
              "      <td>0</td>\n",
              "      <td>0</td>\n",
              "      <td>0</td>\n",
              "      <td>0</td>\n",
              "      <td>0</td>\n",
              "      <td>1</td>\n",
              "      <td>0</td>\n",
              "      <td>1</td>\n",
              "      <td>0</td>\n",
              "      <td>0</td>\n",
              "      <td>0</td>\n",
              "      <td>0</td>\n",
              "      <td>0</td>\n",
              "      <td>0</td>\n",
              "      <td>0</td>\n",
              "      <td>0</td>\n",
              "      <td>0</td>\n",
              "      <td>0</td>\n",
              "      <td>0</td>\n",
              "      <td>0</td>\n",
              "      <td>0</td>\n",
              "      <td>0</td>\n",
              "      <td>0</td>\n",
              "      <td>0</td>\n",
              "      <td>0</td>\n",
              "      <td>0</td>\n",
              "      <td>0</td>\n",
              "      <td>0</td>\n",
              "      <td>0</td>\n",
              "      <td>0</td>\n",
              "      <td>0</td>\n",
              "      <td>0</td>\n",
              "      <td>22</td>\n",
              "      <td>22.0</td>\n",
              "      <td>0.00</td>\n",
              "      <td>25</td>\n",
              "      <td>0</td>\n",
              "    </tr>\n",
              "    <tr>\n",
              "      <th>3</th>\n",
              "      <td>0</td>\n",
              "      <td>0</td>\n",
              "      <td>1</td>\n",
              "      <td>0</td>\n",
              "      <td>0</td>\n",
              "      <td>0</td>\n",
              "      <td>0</td>\n",
              "      <td>0</td>\n",
              "      <td>0</td>\n",
              "      <td>0</td>\n",
              "      <td>0</td>\n",
              "      <td>0</td>\n",
              "      <td>0</td>\n",
              "      <td>0</td>\n",
              "      <td>0</td>\n",
              "      <td>0</td>\n",
              "      <td>0</td>\n",
              "      <td>1</td>\n",
              "      <td>0</td>\n",
              "      <td>0</td>\n",
              "      <td>0</td>\n",
              "      <td>0</td>\n",
              "      <td>0</td>\n",
              "      <td>0</td>\n",
              "      <td>0</td>\n",
              "      <td>0</td>\n",
              "      <td>0</td>\n",
              "      <td>0</td>\n",
              "      <td>0</td>\n",
              "      <td>0</td>\n",
              "      <td>0</td>\n",
              "      <td>0</td>\n",
              "      <td>0</td>\n",
              "      <td>0</td>\n",
              "      <td>0</td>\n",
              "      <td>0</td>\n",
              "      <td>1</td>\n",
              "      <td>0</td>\n",
              "      <td>0</td>\n",
              "      <td>0</td>\n",
              "      <td>0</td>\n",
              "      <td>0</td>\n",
              "      <td>0</td>\n",
              "      <td>0</td>\n",
              "      <td>0</td>\n",
              "      <td>14</td>\n",
              "      <td>54.5</td>\n",
              "      <td>13.63</td>\n",
              "      <td>24</td>\n",
              "      <td>0</td>\n",
              "    </tr>\n",
              "    <tr>\n",
              "      <th>4</th>\n",
              "      <td>0</td>\n",
              "      <td>0</td>\n",
              "      <td>0</td>\n",
              "      <td>0</td>\n",
              "      <td>0</td>\n",
              "      <td>0</td>\n",
              "      <td>0</td>\n",
              "      <td>1</td>\n",
              "      <td>0</td>\n",
              "      <td>0</td>\n",
              "      <td>0</td>\n",
              "      <td>0</td>\n",
              "      <td>0</td>\n",
              "      <td>0</td>\n",
              "      <td>0</td>\n",
              "      <td>0</td>\n",
              "      <td>0</td>\n",
              "      <td>0</td>\n",
              "      <td>1</td>\n",
              "      <td>0</td>\n",
              "      <td>0</td>\n",
              "      <td>0</td>\n",
              "      <td>0</td>\n",
              "      <td>0</td>\n",
              "      <td>0</td>\n",
              "      <td>0</td>\n",
              "      <td>0</td>\n",
              "      <td>0</td>\n",
              "      <td>0</td>\n",
              "      <td>1</td>\n",
              "      <td>0</td>\n",
              "      <td>0</td>\n",
              "      <td>0</td>\n",
              "      <td>0</td>\n",
              "      <td>0</td>\n",
              "      <td>0</td>\n",
              "      <td>0</td>\n",
              "      <td>0</td>\n",
              "      <td>0</td>\n",
              "      <td>0</td>\n",
              "      <td>0</td>\n",
              "      <td>0</td>\n",
              "      <td>0</td>\n",
              "      <td>0</td>\n",
              "      <td>0</td>\n",
              "      <td>90</td>\n",
              "      <td>10.0</td>\n",
              "      <td>0.00</td>\n",
              "      <td>23</td>\n",
              "      <td>0</td>\n",
              "    </tr>\n",
              "  </tbody>\n",
              "</table>\n",
              "</div>"
            ],
            "text/plain": [
              "   AG_ADM  AG_ART  AG_C2B  AG_CBH  ...  Net Sales  Commision (in value)  Age  Claim\n",
              "0       0       0       0       0  ...       19.8                 11.88   29      0\n",
              "1       0       0       0       0  ...       63.0                  0.00   36      0\n",
              "2       0       0       0       0  ...       22.0                  0.00   25      0\n",
              "3       0       0       1       0  ...       54.5                 13.63   24      0\n",
              "4       0       0       0       0  ...       10.0                  0.00   23      0\n",
              "\n",
              "[5 rows x 50 columns]"
            ]
          },
          "metadata": {
            "tags": []
          },
          "execution_count": 13
        }
      ]
    },
    {
      "cell_type": "code",
      "metadata": {
        "id": "br8UtRAmYFJ6"
      },
      "source": [
        "X=CatFile.drop(columns=['Claim'])\r\n",
        "y=CatFile['Claim']"
      ],
      "execution_count": null,
      "outputs": []
    },
    {
      "cell_type": "code",
      "metadata": {
        "id": "SimApNyheQdU"
      },
      "source": [
        "from sklearn.model_selection import train_test_split\r\n",
        "X_train, X_test, y_train, y_test=train_test_split(X, y, test_size=0.3, random_state=101)"
      ],
      "execution_count": null,
      "outputs": []
    },
    {
      "cell_type": "code",
      "metadata": {
        "colab": {
          "base_uri": "https://localhost:8080/"
        },
        "id": "en4vmXsshFUa",
        "outputId": "d93a1ed2-720d-4acc-83f3-f5004a24e704"
      },
      "source": [
        "# import SMOTE \r\n",
        "from imblearn.over_sampling import SMOTE\r\n",
        "\r\n",
        "sm = SMOTE(random_state = 25, sampling_strategy = 1.0)   \r\n",
        "X_trainSM, y_trainSM = sm.fit_sample(X_train, y_train)"
      ],
      "execution_count": null,
      "outputs": [
        {
          "output_type": "stream",
          "text": [
            "/usr/local/lib/python3.6/dist-packages/sklearn/externals/six.py:31: FutureWarning: The module is deprecated in version 0.21 and will be removed in version 0.23 since we've dropped support for Python 2.7. Please rely on the official version of six (https://pypi.org/project/six/).\n",
            "  \"(https://pypi.org/project/six/).\", FutureWarning)\n",
            "/usr/local/lib/python3.6/dist-packages/sklearn/utils/deprecation.py:144: FutureWarning: The sklearn.neighbors.base module is  deprecated in version 0.22 and will be removed in version 0.24. The corresponding classes / functions should instead be imported from sklearn.neighbors. Anything that cannot be imported from sklearn.neighbors is now part of the private API.\n",
            "  warnings.warn(message, FutureWarning)\n",
            "/usr/local/lib/python3.6/dist-packages/sklearn/utils/deprecation.py:87: FutureWarning: Function safe_indexing is deprecated; safe_indexing is deprecated in version 0.22 and will be removed in version 0.24.\n",
            "  warnings.warn(msg, category=FutureWarning)\n"
          ],
          "name": "stderr"
        }
      ]
    },
    {
      "cell_type": "code",
      "metadata": {
        "colab": {
          "base_uri": "https://localhost:8080/"
        },
        "id": "MM2xFE4rrdEk",
        "outputId": "974c7435-5e56-4aea-917b-07466ffd5a6c"
      },
      "source": [
        "print(X_trainSM.shape)\r\n",
        "y_trainSM.sum()"
      ],
      "execution_count": null,
      "outputs": [
        {
          "output_type": "stream",
          "text": [
            "(66538, 49)\n"
          ],
          "name": "stdout"
        },
        {
          "output_type": "execute_result",
          "data": {
            "text/plain": [
              "33269"
            ]
          },
          "metadata": {
            "tags": []
          },
          "execution_count": 17
        }
      ]
    },
    {
      "cell_type": "code",
      "metadata": {
        "colab": {
          "base_uri": "https://localhost:8080/"
        },
        "id": "crSLeMmOrc9k",
        "outputId": "6f4cddcd-c157-479a-cb25-988348d18ecd"
      },
      "source": [
        "print(X_train.shape)\r\n",
        "y_train.sum()"
      ],
      "execution_count": null,
      "outputs": [
        {
          "output_type": "stream",
          "text": [
            "(33782, 49)\n"
          ],
          "name": "stdout"
        },
        {
          "output_type": "execute_result",
          "data": {
            "text/plain": [
              "513"
            ]
          },
          "metadata": {
            "tags": []
          },
          "execution_count": 18
        }
      ]
    },
    {
      "cell_type": "code",
      "metadata": {
        "colab": {
          "base_uri": "https://localhost:8080/"
        },
        "id": "QrvRh6zlrc6H",
        "outputId": "8bceb536-0200-4a19-ab08-87bb8fa3ea47"
      },
      "source": [
        "from sklearn.linear_model import LogisticRegression\r\n",
        "from sklearn.metrics import accuracy_score, classification_report, confusion_matrix\r\n",
        "\r\n",
        "clf1=LogisticRegression().fit(X_trainSM,y_trainSM)\r\n",
        "clf2=LogisticRegression(penalty='l2',C=0.001).fit(X_trainSM,y_trainSM)"
      ],
      "execution_count": null,
      "outputs": [
        {
          "output_type": "stream",
          "text": [
            "/usr/local/lib/python3.6/dist-packages/sklearn/linear_model/_logistic.py:940: ConvergenceWarning: lbfgs failed to converge (status=1):\n",
            "STOP: TOTAL NO. of ITERATIONS REACHED LIMIT.\n",
            "\n",
            "Increase the number of iterations (max_iter) or scale the data as shown in:\n",
            "    https://scikit-learn.org/stable/modules/preprocessing.html\n",
            "Please also refer to the documentation for alternative solver options:\n",
            "    https://scikit-learn.org/stable/modules/linear_model.html#logistic-regression\n",
            "  extra_warning_msg=_LOGISTIC_SOLVER_CONVERGENCE_MSG)\n",
            "/usr/local/lib/python3.6/dist-packages/sklearn/linear_model/_logistic.py:940: ConvergenceWarning: lbfgs failed to converge (status=1):\n",
            "STOP: TOTAL NO. of ITERATIONS REACHED LIMIT.\n",
            "\n",
            "Increase the number of iterations (max_iter) or scale the data as shown in:\n",
            "    https://scikit-learn.org/stable/modules/preprocessing.html\n",
            "Please also refer to the documentation for alternative solver options:\n",
            "    https://scikit-learn.org/stable/modules/linear_model.html#logistic-regression\n",
            "  extra_warning_msg=_LOGISTIC_SOLVER_CONVERGENCE_MSG)\n"
          ],
          "name": "stderr"
        }
      ]
    },
    {
      "cell_type": "code",
      "metadata": {
        "colab": {
          "base_uri": "https://localhost:8080/"
        },
        "id": "QQqFApSvrc2i",
        "outputId": "2fca378d-1ec4-4926-bff4-e22c18a6d988"
      },
      "source": [
        "acc1=clf1.score(X_trainSM,y_trainSM)\r\n",
        "acc1tst=clf1.score(X_test,y_test)\r\n",
        "predtrn=clf1.predict(X_trainSM)\r\n",
        "predtst=clf1.predict(X_test)\r\n",
        "\r\n",
        "\r\n",
        "acc2=clf2.score(X_trainSM,y_trainSM)\r\n",
        "acc2tst=clf2.score(X_test,y_test)\r\n",
        "\r\n",
        "print('Trg acc', acc1)\r\n",
        "print('Tst acc', acc1tst)\r\n",
        "print('LR Train')\r\n",
        "print(classification_report(y_trainSM,predtrn))\r\n",
        "print('LR Test')\r\n",
        "print(classification_report(y_test,predtst))"
      ],
      "execution_count": null,
      "outputs": [
        {
          "output_type": "stream",
          "text": [
            "Trg acc 0.7657128257537047\n",
            "Tst acc 0.824906755076668\n",
            "LR Train\n",
            "              precision    recall  f1-score   support\n",
            "\n",
            "           0       0.74      0.83      0.78     33269\n",
            "           1       0.80      0.71      0.75     33269\n",
            "\n",
            "    accuracy                           0.77     66538\n",
            "   macro avg       0.77      0.77      0.76     66538\n",
            "weighted avg       0.77      0.77      0.76     66538\n",
            "\n",
            "LR Test\n",
            "              precision    recall  f1-score   support\n",
            "\n",
            "           0       0.99      0.83      0.90     14283\n",
            "           1       0.05      0.65      0.09       195\n",
            "\n",
            "    accuracy                           0.82     14478\n",
            "   macro avg       0.52      0.74      0.50     14478\n",
            "weighted avg       0.98      0.82      0.89     14478\n",
            "\n"
          ],
          "name": "stdout"
        }
      ]
    },
    {
      "cell_type": "code",
      "metadata": {
        "id": "8aaLj4YUrczf"
      },
      "source": [
        "from sklearn.tree import DecisionTreeClassifier\r\n",
        "\r\n",
        "# create the model object\r\n",
        "dt = DecisionTreeClassifier(random_state=1) "
      ],
      "execution_count": null,
      "outputs": []
    },
    {
      "cell_type": "code",
      "metadata": {
        "colab": {
          "base_uri": "https://localhost:8080/"
        },
        "id": "vv_pBeNZrcwm",
        "outputId": "dc7acb62-a469-4e8f-bc14-2e882d89ebad"
      },
      "source": [
        "# fit the model on train data\r\n",
        "dt.fit(X_trainSM, y_trainSM)\r\n",
        "predictions_train = dt.predict(X_trainSM)\r\n",
        "#Predictions on the Test data\r\n",
        "predictions_test = dt.predict(X_test)\r\n",
        "print('Train Accuracy ',accuracy_score(y_trainSM,predictions_train))\r\n",
        "print('Test Accuracy ',accuracy_score(y_test,predictions_test))"
      ],
      "execution_count": null,
      "outputs": [
        {
          "output_type": "stream",
          "text": [
            "Train Accuracy  0.9986774474736241\n",
            "Test Accuracy  0.9641525072523829\n"
          ],
          "name": "stdout"
        }
      ]
    },
    {
      "cell_type": "code",
      "metadata": {
        "colab": {
          "base_uri": "https://localhost:8080/"
        },
        "id": "cIH5xV3drcte",
        "outputId": "5bb455a7-8524-45cf-f492-35f3275a6f65"
      },
      "source": [
        "print('DT Train')\r\n",
        "print(classification_report(y_trainSM,predictions_train))\r\n",
        "print('DT Test')\r\n",
        "print(classification_report(y_test,predictions_test))"
      ],
      "execution_count": null,
      "outputs": [
        {
          "output_type": "stream",
          "text": [
            "DT Train\n",
            "              precision    recall  f1-score   support\n",
            "\n",
            "           0       1.00      1.00      1.00     33269\n",
            "           1       1.00      1.00      1.00     33269\n",
            "\n",
            "    accuracy                           1.00     66538\n",
            "   macro avg       1.00      1.00      1.00     66538\n",
            "weighted avg       1.00      1.00      1.00     66538\n",
            "\n",
            "DT Test\n",
            "              precision    recall  f1-score   support\n",
            "\n",
            "           0       0.99      0.98      0.98     14283\n",
            "           1       0.05      0.10      0.07       195\n",
            "\n",
            "    accuracy                           0.96     14478\n",
            "   macro avg       0.52      0.54      0.53     14478\n",
            "weighted avg       0.98      0.96      0.97     14478\n",
            "\n"
          ],
          "name": "stdout"
        }
      ]
    },
    {
      "cell_type": "code",
      "metadata": {
        "colab": {
          "base_uri": "https://localhost:8080/"
        },
        "id": "yNK-eP6ArcnG",
        "outputId": "a212c367-9d31-438d-914f-3ccceee6dc53"
      },
      "source": [
        "from sklearn.ensemble import RandomForestClassifier\r\n",
        "rfc=RandomForestClassifier(random_state=1)\r\n",
        "rfc.fit(X_trainSM, y_trainSM)"
      ],
      "execution_count": null,
      "outputs": [
        {
          "output_type": "execute_result",
          "data": {
            "text/plain": [
              "RandomForestClassifier(bootstrap=True, ccp_alpha=0.0, class_weight=None,\n",
              "                       criterion='gini', max_depth=None, max_features='auto',\n",
              "                       max_leaf_nodes=None, max_samples=None,\n",
              "                       min_impurity_decrease=0.0, min_impurity_split=None,\n",
              "                       min_samples_leaf=1, min_samples_split=2,\n",
              "                       min_weight_fraction_leaf=0.0, n_estimators=100,\n",
              "                       n_jobs=None, oob_score=False, random_state=1, verbose=0,\n",
              "                       warm_start=False)"
            ]
          },
          "metadata": {
            "tags": []
          },
          "execution_count": 24
        }
      ]
    },
    {
      "cell_type": "code",
      "metadata": {
        "id": "Gr1C1eYxrcc2"
      },
      "source": [
        "rfc_pred_train=rfc.predict(X_trainSM)\r\n",
        "rfc_pred_test=rfc.predict(X_test)"
      ],
      "execution_count": null,
      "outputs": []
    },
    {
      "cell_type": "code",
      "metadata": {
        "colab": {
          "base_uri": "https://localhost:8080/"
        },
        "id": "Q3VlSGytsbmg",
        "outputId": "6931941d-10f4-4f2c-c9ae-384e8d41f83e"
      },
      "source": [
        "print('RFC Train')\r\n",
        "print(classification_report(y_trainSM,rfc_pred_train))\r\n",
        "print('RFC Test')\r\n",
        "print(classification_report(y_test,rfc_pred_test))"
      ],
      "execution_count": null,
      "outputs": [
        {
          "output_type": "stream",
          "text": [
            "RFC Train\n",
            "              precision    recall  f1-score   support\n",
            "\n",
            "           0       1.00      1.00      1.00     33269\n",
            "           1       1.00      1.00      1.00     33269\n",
            "\n",
            "    accuracy                           1.00     66538\n",
            "   macro avg       1.00      1.00      1.00     66538\n",
            "weighted avg       1.00      1.00      1.00     66538\n",
            "\n",
            "RFC Test\n",
            "              precision    recall  f1-score   support\n",
            "\n",
            "           0       0.99      0.99      0.99     14283\n",
            "           1       0.07      0.07      0.07       195\n",
            "\n",
            "    accuracy                           0.97     14478\n",
            "   macro avg       0.53      0.53      0.53     14478\n",
            "weighted avg       0.97      0.97      0.97     14478\n",
            "\n"
          ],
          "name": "stdout"
        }
      ]
    },
    {
      "cell_type": "code",
      "metadata": {
        "colab": {
          "base_uri": "https://localhost:8080/"
        },
        "id": "_FQrcckztPOh",
        "outputId": "38f483ac-6f6d-4be4-8b93-1c2b44681c10"
      },
      "source": [
        "from sklearn.model_selection import GridSearchCV\r\n",
        "parameters = {'bootstrap': [True],\r\n",
        "'max_depth': [10, 20],\r\n",
        "'min_samples_leaf': [3, 4],\r\n",
        "'min_samples_split': [4, 6],\r\n",
        "'n_estimators': [100, 200]}\r\n",
        "\r\n",
        "grid_search_1=GridSearchCV(RandomForestClassifier(random_state=1), parameters,cv=3, n_jobs = -1,verbose = 2).fit(X_trainSM,y_trainSM)"
      ],
      "execution_count": null,
      "outputs": [
        {
          "output_type": "stream",
          "text": [
            "Fitting 3 folds for each of 16 candidates, totalling 48 fits\n"
          ],
          "name": "stdout"
        },
        {
          "output_type": "stream",
          "text": [
            "[Parallel(n_jobs=-1)]: Using backend LokyBackend with 2 concurrent workers.\n",
            "[Parallel(n_jobs=-1)]: Done  37 tasks      | elapsed:  3.0min\n",
            "[Parallel(n_jobs=-1)]: Done  48 out of  48 | elapsed:  4.0min finished\n"
          ],
          "name": "stderr"
        }
      ]
    },
    {
      "cell_type": "code",
      "metadata": {
        "colab": {
          "base_uri": "https://localhost:8080/"
        },
        "id": "tSd_4DXVtPKM",
        "outputId": "108e37fc-b7fe-4749-c3dd-632b52af9c0f"
      },
      "source": [
        "grid_search_1.predict_proba(X_test)"
      ],
      "execution_count": null,
      "outputs": [
        {
          "output_type": "execute_result",
          "data": {
            "text/plain": [
              "array([[0.92826009, 0.07173991],\n",
              "       [0.86490978, 0.13509022],\n",
              "       [0.96811943, 0.03188057],\n",
              "       ...,\n",
              "       [0.70177986, 0.29822014],\n",
              "       [0.73068457, 0.26931543],\n",
              "       [0.80527199, 0.19472801]])"
            ]
          },
          "metadata": {
            "tags": []
          },
          "execution_count": 30
        }
      ]
    },
    {
      "cell_type": "code",
      "metadata": {
        "id": "QQ6XcYw-tPGd"
      },
      "source": [
        ""
      ],
      "execution_count": null,
      "outputs": []
    },
    {
      "cell_type": "code",
      "metadata": {
        "id": "6a_Y84V4tPCo"
      },
      "source": [
        ""
      ],
      "execution_count": null,
      "outputs": []
    },
    {
      "cell_type": "code",
      "metadata": {
        "id": "GHs5c1SCtO2j"
      },
      "source": [
        ""
      ],
      "execution_count": null,
      "outputs": []
    },
    {
      "cell_type": "code",
      "metadata": {
        "colab": {
          "base_uri": "https://localhost:8080/",
          "height": 333
        },
        "id": "lHKTgwX4HFZB",
        "outputId": "b8810aa4-16a8-465a-8807-b73ecbe3e755"
      },
      "source": [
        "from sklearn.preprocessing import OneHotEncoder\r\n",
        "enc=OneHotEncoder()\r\n",
        "print(insurance_data.shape)\r\n",
        "enc.fit(insurance_data)\r\n",
        "\r\n",
        "# 3. Transform\r\n",
        "ins_ohe = enc.transform(insurance_data)\r\n"
      ],
      "execution_count": null,
      "outputs": [
        {
          "output_type": "stream",
          "text": [
            "(48260, 8)\n"
          ],
          "name": "stdout"
        },
        {
          "output_type": "error",
          "ename": "AttributeError",
          "evalue": "ignored",
          "traceback": [
            "\u001b[0;31m---------------------------------------------------------------------------\u001b[0m",
            "\u001b[0;31mAttributeError\u001b[0m                            Traceback (most recent call last)",
            "\u001b[0;32m<ipython-input-57-2f9333e6b198>\u001b[0m in \u001b[0;36m<module>\u001b[0;34m()\u001b[0m\n\u001b[1;32m      6\u001b[0m \u001b[0;31m# 3. Transform\u001b[0m\u001b[0;34m\u001b[0m\u001b[0;34m\u001b[0m\u001b[0;34m\u001b[0m\u001b[0m\n\u001b[1;32m      7\u001b[0m \u001b[0mins_ohe\u001b[0m \u001b[0;34m=\u001b[0m \u001b[0menc\u001b[0m\u001b[0;34m.\u001b[0m\u001b[0mtransform\u001b[0m\u001b[0;34m(\u001b[0m\u001b[0minsurance_data\u001b[0m\u001b[0;34m)\u001b[0m\u001b[0;34m\u001b[0m\u001b[0;34m\u001b[0m\u001b[0m\n\u001b[0;32m----> 8\u001b[0;31m \u001b[0mins_ohe\u001b[0m\u001b[0;34m.\u001b[0m\u001b[0mlabels\u001b[0m\u001b[0;34m\u001b[0m\u001b[0;34m\u001b[0m\u001b[0m\n\u001b[0m",
            "\u001b[0;32m/usr/local/lib/python3.6/dist-packages/scipy/sparse/base.py\u001b[0m in \u001b[0;36m__getattr__\u001b[0;34m(self, attr)\u001b[0m\n\u001b[1;32m    689\u001b[0m             \u001b[0;32mreturn\u001b[0m \u001b[0mself\u001b[0m\u001b[0;34m.\u001b[0m\u001b[0mgetnnz\u001b[0m\u001b[0;34m(\u001b[0m\u001b[0;34m)\u001b[0m\u001b[0;34m\u001b[0m\u001b[0;34m\u001b[0m\u001b[0m\n\u001b[1;32m    690\u001b[0m         \u001b[0;32melse\u001b[0m\u001b[0;34m:\u001b[0m\u001b[0;34m\u001b[0m\u001b[0;34m\u001b[0m\u001b[0m\n\u001b[0;32m--> 691\u001b[0;31m             \u001b[0;32mraise\u001b[0m \u001b[0mAttributeError\u001b[0m\u001b[0;34m(\u001b[0m\u001b[0mattr\u001b[0m \u001b[0;34m+\u001b[0m \u001b[0;34m\" not found\"\u001b[0m\u001b[0;34m)\u001b[0m\u001b[0;34m\u001b[0m\u001b[0;34m\u001b[0m\u001b[0m\n\u001b[0m\u001b[1;32m    692\u001b[0m \u001b[0;34m\u001b[0m\u001b[0m\n\u001b[1;32m    693\u001b[0m     \u001b[0;32mdef\u001b[0m \u001b[0mtranspose\u001b[0m\u001b[0;34m(\u001b[0m\u001b[0mself\u001b[0m\u001b[0;34m,\u001b[0m \u001b[0maxes\u001b[0m\u001b[0;34m=\u001b[0m\u001b[0;32mNone\u001b[0m\u001b[0;34m,\u001b[0m \u001b[0mcopy\u001b[0m\u001b[0;34m=\u001b[0m\u001b[0;32mFalse\u001b[0m\u001b[0;34m)\u001b[0m\u001b[0;34m:\u001b[0m\u001b[0;34m\u001b[0m\u001b[0;34m\u001b[0m\u001b[0m\n",
            "\u001b[0;31mAttributeError\u001b[0m: labels not found"
          ]
        }
      ]
    },
    {
      "cell_type": "code",
      "metadata": {
        "colab": {
          "base_uri": "https://localhost:8080/"
        },
        "id": "Wpo86bTeOhBj",
        "outputId": "3ac843c9-9edd-4e42-86ff-a2230a88d941"
      },
      "source": [
        "from numpy import array\r\n",
        "from numpy import argmax\r\n",
        "from sklearn.preprocessing import LabelEncoder\r\n",
        "# integer encode\r\n",
        "label_encoder = LabelEncoder()\r\n",
        "integer_encoded = label_encoder.fit_transform(insurance_data['Gender'])\r\n",
        "print(integer_encoded)\r\n",
        "# binary encode\r\n",
        "onehot_encoder = OneHotEncoder()\r\n",
        "integer_encoded = integer_encoded.reshape(len(integer_encoded), 1)\r\n",
        "onehot_encoded = onehot_encoder.fit_transform(integer_encoded)\r\n",
        "print(onehot_encoded)"
      ],
      "execution_count": null,
      "outputs": [
        {
          "output_type": "stream",
          "text": [
            "[2 2 2 ... 2 2 2]\n",
            "  (0, 2)\t1.0\n",
            "  (1, 2)\t1.0\n",
            "  (2, 2)\t1.0\n",
            "  (3, 1)\t1.0\n",
            "  (4, 2)\t1.0\n",
            "  (5, 2)\t1.0\n",
            "  (6, 2)\t1.0\n",
            "  (7, 2)\t1.0\n",
            "  (8, 2)\t1.0\n",
            "  (9, 2)\t1.0\n",
            "  (10, 2)\t1.0\n",
            "  (11, 2)\t1.0\n",
            "  (12, 2)\t1.0\n",
            "  (13, 1)\t1.0\n",
            "  (14, 2)\t1.0\n",
            "  (15, 2)\t1.0\n",
            "  (16, 2)\t1.0\n",
            "  (17, 2)\t1.0\n",
            "  (18, 1)\t1.0\n",
            "  (19, 1)\t1.0\n",
            "  (20, 1)\t1.0\n",
            "  (21, 2)\t1.0\n",
            "  (22, 0)\t1.0\n",
            "  (23, 1)\t1.0\n",
            "  (24, 2)\t1.0\n",
            "  :\t:\n",
            "  (48235, 2)\t1.0\n",
            "  (48236, 2)\t1.0\n",
            "  (48237, 2)\t1.0\n",
            "  (48238, 2)\t1.0\n",
            "  (48239, 2)\t1.0\n",
            "  (48240, 1)\t1.0\n",
            "  (48241, 1)\t1.0\n",
            "  (48242, 0)\t1.0\n",
            "  (48243, 2)\t1.0\n",
            "  (48244, 2)\t1.0\n",
            "  (48245, 0)\t1.0\n",
            "  (48246, 0)\t1.0\n",
            "  (48247, 0)\t1.0\n",
            "  (48248, 0)\t1.0\n",
            "  (48249, 2)\t1.0\n",
            "  (48250, 2)\t1.0\n",
            "  (48251, 2)\t1.0\n",
            "  (48252, 2)\t1.0\n",
            "  (48253, 2)\t1.0\n",
            "  (48254, 2)\t1.0\n",
            "  (48255, 2)\t1.0\n",
            "  (48256, 0)\t1.0\n",
            "  (48257, 2)\t1.0\n",
            "  (48258, 2)\t1.0\n",
            "  (48259, 2)\t1.0\n"
          ],
          "name": "stdout"
        }
      ]
    }
  ]
}